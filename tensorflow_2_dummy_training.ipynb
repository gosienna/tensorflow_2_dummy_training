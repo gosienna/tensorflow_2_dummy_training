{
 "cells": [
  {
   "cell_type": "code",
   "execution_count": 1,
   "metadata": {},
   "outputs": [],
   "source": [
    "import tensorflow as tf\n",
    "import numpy as np\n",
    "import matplotlib.pyplot as plt"
   ]
  },
  {
   "cell_type": "code",
   "execution_count": 3,
   "metadata": {},
   "outputs": [
    {
     "name": "stdout",
     "output_type": "stream",
     "text": [
      "[0.00016315 0.00065674 0.00094971 0.00058606 0.00094357 0.0004946\n",
      " 0.00093664 0.00091338 0.00012084 0.0006558 ]\n"
     ]
    }
   ],
   "source": [
    "np_noise = np.random.rand(10)\n",
    "print(np_noise/1000)"
   ]
  },
  {
   "cell_type": "code",
   "execution_count": 5,
   "metadata": {},
   "outputs": [
    {
     "data": {
      "text/plain": [
       "<matplotlib.collections.PathCollection at 0x166e19defc8>"
      ]
     },
     "execution_count": 5,
     "metadata": {},
     "output_type": "execute_result"
    },
    {
     "data": {
      "image/png": "[encoded data removed]",
      "text/plain": [
       "<Figure size 640x480 with 1 Axes>"
      ]
     },
     "metadata": {},
     "output_type": "display_data"
    }
   ],
   "source": [
    "fig, ax = plt.subplots()\n",
    "ax.set_aspect(aspect='equal')\n",
    "\n",
    "radius = 1\n",
    "num_point = 20\n",
    "np_noise = np.random.rand(num_point)/5+1\n",
    "np_radian_range = np.linspace(0,2*np.pi,num_point)*np_noise\n",
    "np_x = np.cos(np_radian_range)*(radius*np_noise)\n",
    "np_y = np.sin(np_radian_range)*(radius*np_noise)\n",
    "data_positive = np.stack((np_x,np_y)).T\n",
    "\n",
    "ax.scatter(np_x,np_y)\n",
    "\n",
    "radius = 0.5\n",
    "num_point = 20\n",
    "np_noise = np.random.rand(num_point)/5+1\n",
    "np_radian_range = np.linspace(0,2*np.pi,num_point)*np_noise\n",
    "np_x = np.cos(np_radian_range)*(radius*np_noise)\n",
    "np_y = np.sin(np_radian_range)*(radius*np_noise)\n",
    "data_negative = np.stack((np_x,np_y)).T\n",
    "\n",
    "ax.scatter(np_x,np_y)"
   ]
  },
  {
   "cell_type": "code",
   "execution_count": 19,
   "metadata": {},
   "outputs": [],
   "source": [
    "tf_data_positive = tf.data.Dataset.from_tensor_slices(data_positive)\n",
    "tf_data_positive = tf_data_positive.map(lambda x: x,100)"
   ]
  },
  {
   "cell_type": "code",
   "execution_count": 20,
   "metadata": {},
   "outputs": [
    {
     "name": "stdout",
     "output_type": "stream",
     "text": [
      "tf.Tensor([1.01602161 0.        ], shape=(2,), dtype=float64)\n",
      "tf.Tensor([1.09547257 0.45286364], shape=(2,), dtype=float64)\n",
      "tf.Tensor([0.83079408 0.7790537 ], shape=(2,), dtype=float64)\n",
      "tf.Tensor([0.50778742 0.97508753], shape=(2,), dtype=float64)\n",
      "tf.Tensor([0.20113289 1.02080256], shape=(2,), dtype=float64)\n",
      "tf.Tensor([-0.37085323  1.08729206], shape=(2,), dtype=float64)\n",
      "tf.Tensor([-0.67943909  0.89054328], shape=(2,), dtype=float64)\n",
      "tf.Tensor([-0.77093017  0.69730283], shape=(2,), dtype=float64)\n",
      "tf.Tensor([-1.14302284  0.11687778], shape=(2,), dtype=float64)\n",
      "tf.Tensor([-1.10368872 -0.27135966], shape=(2,), dtype=float64)\n"
     ]
    }
   ],
   "source": [
    "for item in tf_data_positive.take(10):\n",
    "    print(item)"
   ]
  },
  {
   "cell_type": "code",
   "execution_count": 10,
   "metadata": {},
   "outputs": [
    {
     "name": "stdout",
     "output_type": "stream",
     "text": [
      "Model: \"sequential_3\"\n",
      "_________________________________________________________________\n",
      " Layer (type)                Output Shape              Param #   \n",
      "=================================================================\n",
      " dense_9 (Dense)             (None, 1, 8)              24        \n",
      "                                                                 \n",
      " dense_10 (Dense)            (None, 1, 8)              72        \n",
      "                                                                 \n",
      " dense_11 (Dense)            (None, 1, 1)              9         \n",
      "                                                                 \n",
      "=================================================================\n",
      "Total params: 105\n",
      "Trainable params: 105\n",
      "Non-trainable params: 0\n",
      "_________________________________________________________________\n"
     ]
    }
   ],
   "source": [
    "from tensorflow.keras.models import Sequential \n",
    "from tensorflow.keras import layers\n",
    "model = Sequential([\n",
    "    layers.Dense(8,activation = 'relu', input_shape = (1,2)),\n",
    "    layers.Dense(8,activation = 'relu'),\n",
    "    layers.Dense(1,activation = 'sigmoid')\n",
    "])\n",
    "model.build()\n",
    "model.summary()\n"
   ]
  },
  {
   "cell_type": "code",
   "execution_count": null,
   "metadata": {},
   "outputs": [],
   "source": []
  }
 ],
 "metadata": {
  "kernelspec": {
   "display_name": "Python 3.7.9 ('tensorflow-cpu')",
   "language": "python",
   "name": "python3"
  },
  "language_info": {
   "codemirror_mode": {
    "name": "ipython",
    "version": 3
   },
   "file_extension": ".py",
   "mimetype": "text/x-python",
   "name": "python",
   "nbconvert_exporter": "python",
   "pygments_lexer": "ipython3",
   "version": "3.7.9"
  },
  "orig_nbformat": 4,
  "vscode": {
   "interpreter": {
    "hash": "88b20146f8addba8b1b3dec5d9d475ca181e0c82b932275d93482473adc6faf2"
   }
  }
 },
 "nbformat": 4,
 "nbformat_minor": 2
}
